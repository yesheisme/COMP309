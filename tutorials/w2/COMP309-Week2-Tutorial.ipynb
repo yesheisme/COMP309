{
 "cells": [
  {
   "cell_type": "markdown",
   "id": "63654674",
   "metadata": {},
   "source": [
    "## Tutorial-Week 2 for COMP309\n",
    "*1. How to Create/Run a Jupyter Notebook* \n",
    "\n",
    "   * If you are using lab computer in ECS, find \"Jupyter Notebook\" pre-installed or start it by entering jupyter notebook in command line. \n",
    "   * If you are using you own laptop\n",
    "       *  instal all the needed packages  individually for python can be a bit difficult, we recommend Anacond (https://www.anaconda.com/products/distribution) \n",
    "       * Open \"Anaconda-Navigator\" and then selecting \"Jupyter Notebook\". Or you can also start it from the Anaconda Prompt command line: jupyter notebook \n",
    "       * Jupyter notebook is a programming environment that runs in a web browser. need a reasonably up-to-date browser, Chrome/Firefox should work\n",
    "       * If you see a new browser output with the label \"Jupyter\" on the left top of the screen, you have already opened the notebook successfully.\n",
    "\n",
    "*2. Random Seed, and random splitting to form a traning set and a test set*\n",
    "\n",
    "*3. Review of Classification Models and Algorithms-using Scikit-learn (https://scikit-learn.org/stable/supervised_learning.html#supervised-learning)*\n",
    "\n",
    "   * [ ] K Nearest Neighbours\n",
    "   * [ ] Perceptron and Multilayer Perceptron\n",
    "   * [ ] Naive Bayes Classifier\n",
    "   * [ ] Support Vector Machine\n",
    "   * [ ] Decision Tree\n",
    "   * [ ] Boosting\n",
    "   * [ ] Random Forests\n",
    "   \n"
   ]
  },
  {
   "cell_type": "code",
   "execution_count": 34,
   "id": "a367b627",
   "metadata": {},
   "outputs": [
    {
     "data": {
      "text/plain": [
       "array([0, 0, 0, 0, 0, 0, 0, 0, 0, 0, 0, 0, 0, 0, 0, 0, 0, 0, 0, 0, 0, 0,\n",
       "       0, 0, 0, 0, 0, 0, 0, 0, 0, 0, 0, 0, 0, 0, 0, 0, 0, 0, 0, 0, 0, 0,\n",
       "       0, 0, 0, 0, 0, 0, 1, 1, 1, 1, 1, 1, 1, 1, 1, 1, 1, 1, 1, 1, 1, 1,\n",
       "       1, 1, 1, 1, 1, 1, 1, 1, 1, 1, 1, 1, 1, 1, 1, 1, 1, 1, 1, 1, 1, 1,\n",
       "       1, 1, 1, 1, 1, 1, 1, 1, 1, 1, 1, 1, 2, 2, 2, 2, 2, 2, 2, 2, 2, 2,\n",
       "       2, 2, 2, 2, 2, 2, 2, 2, 2, 2, 2, 2, 2, 2, 2, 2, 2, 2, 2, 2, 2, 2,\n",
       "       2, 2, 2, 2, 2, 2, 2, 2, 2, 2, 2, 2, 2, 2, 2, 2, 2, 2])"
      ]
     },
     "execution_count": 34,
     "metadata": {},
     "output_type": "execute_result"
    }
   ],
   "source": [
    "#import the \n",
    "from sklearn import datasets\n",
    "import pandas as pd\n",
    "import numpy as np\n",
    "import matplotlib.pyplot as plt\n",
    "iris = datasets.load_iris()\n",
    "#data # this is like a dict so far, not a dataframe...\n",
    "\n",
    "x = iris.data\n",
    "labels =  iris.target\n",
    "x.shape\n",
    "# x\n",
    "labels"
   ]
  },
  {
   "cell_type": "code",
   "execution_count": 65,
   "id": "acc33afb",
   "metadata": {},
   "outputs": [
    {
     "name": "stdout",
     "output_type": "stream",
     "text": [
      "0.5197779418935203\n"
     ]
    }
   ],
   "source": [
    "#Random number generator need a seed\n",
    "#supply a specific seed to the random generator,\n",
    "#you will get the same numbers every time you execute a program\n",
    "import random\n",
    "\n",
    "random.seed(130)\n",
    "print(random.random())\n",
    "\n"
   ]
  },
  {
   "cell_type": "code",
   "execution_count": 70,
   "id": "8a15413d",
   "metadata": {},
   "outputs": [
    {
     "name": "stdout",
     "output_type": "stream",
     "text": [
      "0.8316158054852849\n",
      "0.5881308010772742\n"
     ]
    }
   ],
   "source": [
    "import numpy.random as rng # random number generator\n",
    "\n",
    "print(rng.random())\n",
    "#random_state simply sets a seed to the random generato\n",
    "rn = rng.RandomState(20)\n",
    "print(rn.random())\n",
    "\n"
   ]
  },
  {
   "cell_type": "code",
   "execution_count": 52,
   "id": "f147a285",
   "metadata": {},
   "outputs": [
    {
     "data": {
      "text/plain": [
       "array([[5. , 2.3, 3.3, 1. ],\n",
       "       [4.9, 3.1, 1.5, 0.2],\n",
       "       [4.9, 3. , 1.4, 0.2],\n",
       "       [6.3, 2.5, 5. , 1.9],\n",
       "       [6.2, 2.9, 4.3, 1.3]])"
      ]
     },
     "execution_count": 52,
     "metadata": {},
     "output_type": "execute_result"
    }
   ],
   "source": [
    "from sklearn.model_selection import train_test_split\n",
    "\n",
    "ta_x, te_x, ta_y, te_y = train_test_split(x, labels, test_size=0.3, random_state=309,shuffle=True)\n",
    "ta_x.shape\n",
    "ta_x[:5]\n",
    "#ta_y.shape"
   ]
  },
  {
   "cell_type": "code",
   "execution_count": 7,
   "id": "422cef34",
   "metadata": {},
   "outputs": [
    {
     "data": {
      "text/plain": [
       "(45, 4)"
      ]
     },
     "execution_count": 7,
     "metadata": {},
     "output_type": "execute_result"
    }
   ],
   "source": [
    "te_x.shape\n",
    "#te_x\n",
    "#te_y.shape"
   ]
  },
  {
   "cell_type": "code",
   "execution_count": 8,
   "id": "560856bb",
   "metadata": {},
   "outputs": [
    {
     "name": "stdout",
     "output_type": "stream",
     "text": [
      "Predictions:[0]\n"
     ]
    }
   ],
   "source": [
    "#KNN, setting k - \"n_neighbors\" \n",
    "from sklearn.neighbors import KNeighborsClassifier\n",
    "neigh = KNeighborsClassifier(n_neighbors=3)#, weights=\"distance\")# by default-\"uniform\"\n",
    "neigh.fit(ta_x, ta_y)\n",
    "pre_y = neigh.predict(te_x[0:1])\n",
    "print(\"Predictions:\"+str(pre_y))\n",
    "#print(\"Labels     :\"+str(te_y))\n",
    "#neigh.predict(te_x[20:30])\n",
    "#neigh.predict_proba(te_x[20:30])"
   ]
  },
  {
   "cell_type": "code",
   "execution_count": 9,
   "id": "28e04d1a",
   "metadata": {},
   "outputs": [
    {
     "data": {
      "text/plain": [
       "array([[-0.39007941,  0.67583768, -1.83035456, -0.73783521],\n",
       "       [ 0.28011339, -0.42344897, -0.10609608, -0.54572796],\n",
       "       [ 0.10996602, -0.25238872,  1.93645064,  1.28356318]])"
      ]
     },
     "execution_count": 9,
     "metadata": {},
     "output_type": "execute_result"
    }
   ],
   "source": [
    "from sklearn.linear_model import LogisticRegression\n",
    "\n",
    "# Create an instance of Logistic Regression Classifier and fit the data.\n",
    "logreg = LogisticRegression(C=0.5)\n",
    "logreg.fit(ta_x, ta_y)\n",
    "logreg.coef_\n"
   ]
  },
  {
   "cell_type": "code",
   "execution_count": 10,
   "id": "9f055c8c",
   "metadata": {},
   "outputs": [
    {
     "data": {
      "text/plain": [
       "array([[-0.35847397,  0.53398199, -1.54062167, -0.61441525],\n",
       "       [ 0.16995085, -0.42594791, -0.02855264, -0.40508516],\n",
       "       [ 0.18852312, -0.10803408,  1.56917432,  1.01950041]])"
      ]
     },
     "execution_count": 10,
     "metadata": {},
     "output_type": "execute_result"
    }
   ],
   "source": [
    "logreg = LogisticRegression(C=0.3)\n",
    "logreg.fit(ta_x, ta_y)\n",
    "logreg.coef_"
   ]
  },
  {
   "cell_type": "code",
   "execution_count": 11,
   "id": "a1b8f3fe",
   "metadata": {},
   "outputs": [
    {
     "name": "stdout",
     "output_type": "stream",
     "text": [
      "Predictions:[0 2 0 1 2]\n",
      "Labels     :[0 1 0 1 2]\n"
     ]
    }
   ],
   "source": [
    "logreg = LogisticRegression(C=1, max_iter=120)\n",
    "logreg.fit(ta_x, ta_y)\n",
    "logreg.coef_\n",
    "logreg_pre_y = logreg.predict(te_x[0:5])\n",
    "print(\"Predictions:\"+str(logreg_pre_y))\n",
    "print(\"Labels     :\"+str(te_y[0:5]))"
   ]
  },
  {
   "cell_type": "code",
   "execution_count": 12,
   "id": "44f04695-0c4d-4fab-80a7-3a392e1d8353",
   "metadata": {},
   "outputs": [
    {
     "data": {
      "text/plain": [
       "array([[9.34095858e-01, 6.59037571e-02, 3.84481258e-07],\n",
       "       [1.16505174e-03, 4.61086364e-01, 5.37748584e-01],\n",
       "       [9.70798938e-01, 2.92009603e-02, 1.01438382e-07],\n",
       "       [4.23626011e-03, 7.84525506e-01, 2.11238233e-01],\n",
       "       [1.54392056e-04, 1.95781979e-01, 8.04063629e-01]])"
      ]
     },
     "execution_count": 12,
     "metadata": {},
     "output_type": "execute_result"
    }
   ],
   "source": [
    "logreg.predict_proba(te_x[0:5])"
   ]
  },
  {
   "cell_type": "code",
   "execution_count": 13,
   "id": "fc41b794-4859-41c1-b5b1-d6c98c158e9a",
   "metadata": {},
   "outputs": [
    {
     "name": "stdout",
     "output_type": "stream",
     "text": [
      "Predictions:[0 2 0 1 2]\n",
      "Labels     :[0 1 0 1 2]\n"
     ]
    }
   ],
   "source": [
    "from sklearn.linear_model import Perceptron\n",
    "clf = Perceptron(tol=1e-3, random_state=0)#The stopping criterion, the iterations will stop when loss > previous_loss - tol.\n",
    "clf.fit(ta_x, ta_y)\n",
    "clf_pre_y = clf.predict(te_x[0:5])\n",
    "print(\"Predictions:\"+str(clf_pre_y))\n",
    "print(\"Labels     :\"+str(te_y[0:5]))"
   ]
  },
  {
   "cell_type": "code",
   "execution_count": 28,
   "id": "37df3c68-468f-4304-a817-f9b28a641b4a",
   "metadata": {
    "scrolled": true
   },
   "outputs": [
    {
     "data": {
      "text/plain": [
       "3"
      ]
     },
     "execution_count": 28,
     "metadata": {},
     "output_type": "execute_result"
    }
   ],
   "source": [
    "from sklearn.neural_network import MLPClassifier\n",
    "mlp_clf = MLPClassifier(random_state=0, max_iter=900,alpha=0.1, activation=\"logistic\")#float value, default=0.0001\n",
    "mlp_clf.fit(ta_x, ta_y)\n",
    "mlp_clf.predict(te_x[0:5])\n",
    "#mlp_clf.coefs_\n",
    "mlp_clf.n_layers_"
   ]
  },
  {
   "cell_type": "code",
   "execution_count": 20,
   "id": "cd77bc0e-db55-4297-8d82-3d3ccc1ef9c4",
   "metadata": {},
   "outputs": [
    {
     "data": {
      "text/plain": [
       "array([[9.01946450e-01, 9.80231072e-02, 3.04428631e-05],\n",
       "       [9.15998756e-03, 4.96222655e-01, 4.94617358e-01],\n",
       "       [9.60889972e-01, 3.91053748e-02, 4.65314645e-06],\n",
       "       [1.92391162e-02, 6.64316966e-01, 3.16443917e-01],\n",
       "       [1.98991031e-03, 2.53338986e-01, 7.44671104e-01],\n",
       "       [9.14155669e-01, 8.58184602e-02, 2.58708323e-05],\n",
       "       [9.46180652e-01, 5.38092219e-02, 1.01259625e-05],\n",
       "       [9.51699503e-01, 4.82939418e-02, 6.55571865e-06],\n",
       "       [7.01737013e-02, 8.06700746e-01, 1.23125553e-01],\n",
       "       [9.12829674e-01, 8.71444756e-02, 2.58499026e-05],\n",
       "       [4.82150149e-02, 8.03881107e-01, 1.47903878e-01],\n",
       "       [1.88533898e-02, 6.59040471e-01, 3.22106139e-01],\n",
       "       [4.07299434e-02, 7.59548211e-01, 1.99721845e-01],\n",
       "       [6.73165395e-04, 1.27410161e-01, 8.71916673e-01],\n",
       "       [8.35290263e-01, 1.64616154e-01, 9.35827697e-05],\n",
       "       [6.83794055e-02, 8.35705907e-01, 9.59146875e-02],\n",
       "       [9.80036378e-01, 1.99625977e-02, 1.02388670e-06],\n",
       "       [9.80072184e-01, 1.99266039e-02, 1.21205451e-06],\n",
       "       [1.84772812e-03, 1.98273778e-01, 7.99878493e-01],\n",
       "       [9.61301408e-01, 3.86938299e-02, 4.76171833e-06],\n",
       "       [9.11549922e-01, 8.84192748e-02, 3.08032044e-05],\n",
       "       [4.63777300e-03, 3.62285520e-01, 6.33076707e-01],\n",
       "       [9.61006406e-01, 3.89896134e-02, 3.98032747e-06],\n",
       "       [2.83490260e-02, 7.17367421e-01, 2.54283553e-01],\n",
       "       [9.45348707e-01, 5.46422116e-02, 9.08098405e-06],\n",
       "       [2.14270130e-03, 2.39156317e-01, 7.58700982e-01],\n",
       "       [5.41856352e-02, 7.79271497e-01, 1.66542868e-01],\n",
       "       [7.37604137e-03, 4.37052648e-01, 5.55571310e-01],\n",
       "       [1.60308421e-03, 2.00270465e-01, 7.98126451e-01],\n",
       "       [9.51543642e-01, 4.84491859e-02, 7.17242099e-06],\n",
       "       [1.37525648e-03, 1.90533177e-01, 8.08091567e-01],\n",
       "       [9.45005637e-01, 5.49850179e-02, 9.34502982e-06],\n",
       "       [2.35769037e-03, 2.42615191e-01, 7.55027118e-01],\n",
       "       [4.08146548e-02, 7.74287819e-01, 1.84897526e-01],\n",
       "       [9.38326990e-01, 6.16596526e-02, 1.33574186e-05],\n",
       "       [5.10911312e-03, 3.81459157e-01, 6.13431730e-01],\n",
       "       [9.46126207e-04, 1.36041298e-01, 8.63012576e-01],\n",
       "       [9.22424826e-01, 7.75538370e-02, 2.13367875e-05],\n",
       "       [4.42117698e-04, 1.17760061e-01, 8.81797821e-01],\n",
       "       [5.65949952e-03, 3.66218543e-01, 6.28121957e-01],\n",
       "       [5.18413497e-04, 1.26714410e-01, 8.72767177e-01],\n",
       "       [1.23157630e-01, 8.19095619e-01, 5.77467511e-02],\n",
       "       [1.34193589e-01, 8.20621369e-01, 4.51850413e-02],\n",
       "       [9.51099304e-01, 4.88937566e-02, 6.93934980e-06],\n",
       "       [6.15599996e-02, 8.28546572e-01, 1.09893428e-01]])"
      ]
     },
     "execution_count": 20,
     "metadata": {},
     "output_type": "execute_result"
    }
   ],
   "source": [
    "mlp_clf.predict_proba(te_x)"
   ]
  },
  {
   "cell_type": "code",
   "execution_count": 21,
   "id": "ac4d6f3f-d827-49ff-b562-35422eff6bf9",
   "metadata": {},
   "outputs": [
    {
     "name": "stdout",
     "output_type": "stream",
     "text": [
      "[[3 4 0]\n",
      " [1 3 0]\n",
      " [0 1 4]\n",
      " [4 1 2]\n",
      " [4 2 4]\n",
      " [3 4 2]\n",
      " [4 2 4]\n",
      " [1 1 0]\n",
      " [1 1 1]\n",
      " [1 0 4]\n",
      " [1 0 0]\n",
      " [3 2 1]\n",
      " [0 3 1]\n",
      " [1 3 4]\n",
      " [0 1 3]\n",
      " [4 2 4]\n",
      " [0 3 1]\n",
      " [2 0 4]\n",
      " [1 2 2]\n",
      " [1 0 1]]\n",
      "[1 2 1 1 1]\n"
     ]
    }
   ],
   "source": [
    "from sklearn.naive_bayes import MultinomialNB\n",
    "\n",
    "rn = rng.RandomState(1)\n",
    "x = rn.randint(5, size=(20, 3))#generate some random int values, discrete features \n",
    "print(x)\n",
    "y = np.array([1, 2, 0, 1, 0, 2, 2, 1, 0, 1, 0, 1, 1, 1, 2, 1, 2, 1, 1, 2])\n",
    "nb_clf = MultinomialNB(alpha=1) #alpha - smoothing parameter =1\n",
    "nb_clf.fit(x, y)\n",
    "print(nb_clf.predict(x[0:5]))\n"
   ]
  },
  {
   "cell_type": "code",
   "execution_count": 22,
   "id": "cee9e940-ec5d-42ab-a71c-25f497b2c932",
   "metadata": {},
   "outputs": [
    {
     "data": {
      "text/plain": [
       "array([0, 2, 0, 2, 2])"
      ]
     },
     "execution_count": 22,
     "metadata": {},
     "output_type": "execute_result"
    }
   ],
   "source": [
    "from sklearn.svm import SVC\n",
    "svm_clf = SVC(kernel='rbf', C=0.03)#\"linear\", \"poly\",  C:Regularization parameter\n",
    "svm_clf.fit(ta_x, ta_y)\n",
    "svm_clf.predict(te_x[0:5])\n",
    "#SVC for multiclass classifcation: decision_function_shape \"one-over-rest\", “one-versus-one”\n",
    "#OVO-breaks down the multiclass problem into multiple binary classification problems\n",
    "#OVR-a binary classifier per each class #default\n"
   ]
  },
  {
   "cell_type": "code",
   "execution_count": 23,
   "id": "a94726ef-5709-4d3f-aaf0-2a29bc35d626",
   "metadata": {},
   "outputs": [
    {
     "name": "stdout",
     "output_type": "stream",
     "text": [
      "[0 2 0 2 2]\n"
     ]
    }
   ],
   "source": [
    "from sklearn.tree import DecisionTreeClassifier\n",
    "dt_clf = DecisionTreeClassifier(max_depth=1, random_state=0)#possible random at each split before finding the best split among them\n",
    "dt_clf.fit(ta_x, ta_y)\n",
    "print(dt_clf.predict(te_x[0:5]))"
   ]
  },
  {
   "cell_type": "code",
   "execution_count": 24,
   "id": "df1a9b35-44a8-411d-b530-d16d496e0a94",
   "metadata": {},
   "outputs": [
    {
     "data": {
      "image/png": "[encoded data removed]",
      "text/plain": [
       "<Figure size 640x480 with 1 Axes>"
      ]
     },
     "metadata": {},
     "output_type": "display_data"
    }
   ],
   "source": [
    "from sklearn.tree import plot_tree\n",
    "plot_tree(dt_clf, filled=True)\n",
    "plt.show()"
   ]
  },
  {
   "cell_type": "code",
   "execution_count": 25,
   "id": "66337e86-e570-4168-96e9-8beb7f376eba",
   "metadata": {},
   "outputs": [
    {
     "data": {
      "text/plain": [
       "array([0, 2, 0, 1, 2])"
      ]
     },
     "execution_count": 25,
     "metadata": {},
     "output_type": "execute_result"
    }
   ],
   "source": [
    "from sklearn.ensemble import GradientBoostingClassifier\n",
    "gb_clf = GradientBoostingClassifier(n_estimators=100, max_depth=2, random_state=0)\n",
    "gb_clf.fit(ta_x, ta_y)\n",
    "gb_clf.predict(te_x[0:5])"
   ]
  },
  {
   "cell_type": "code",
   "execution_count": 26,
   "id": "04455a12-bf0d-4873-9fe6-7662749ab0ac",
   "metadata": {},
   "outputs": [
    {
     "data": {
      "image/png": "[encoded data removed]",
      "text/plain": [
       "<Figure size 640x480 with 1 Axes>"
      ]
     },
     "metadata": {},
     "output_type": "display_data"
    }
   ],
   "source": [
    "sub_tree_50 = gb_clf.estimators_[50, 0]\n",
    "plot_tree(sub_tree_50, filled=True)\n",
    "plt.show()"
   ]
  },
  {
   "cell_type": "code",
   "execution_count": 27,
   "id": "bb94b388-d462-41a3-8913-fa70e2a68a8d",
   "metadata": {},
   "outputs": [
    {
     "name": "stdout",
     "output_type": "stream",
     "text": [
      "prediction     :[0 2 0 1 2 0 0 0 1 0 1 1 1 2 0 1 0 0 2 0 0 2 0 1 0 2 1 2 2 0 2 0 2 1 0 2 2\n",
      " 0 2 2 2 1 1 0 1]\n",
      "Labels     :[0 1 0 1 2 0 0 0 1 0 1 1 1 2 0 1 0 0 2 0 0 1 0 1 0 2 1 2 2 0 2 0 2 1 0 2 2\n",
      " 0 2 2 2 1 1 0 1]\n"
     ]
    }
   ],
   "source": [
    "from sklearn.ensemble import RandomForestClassifier\n",
    "rf_clf = RandomForestClassifier(n_estimators=500, max_depth=3, random_state=33)\n",
    "rf_clf.fit(ta_x, ta_y)\n",
    "pre_y = rf_clf.predict(te_x)\n",
    "print(\"prediction     :\"+str(pre_y))\n",
    "print(\"Labels     :\"+str(te_y))\n"
   ]
  },
  {
   "cell_type": "code",
   "execution_count": null,
   "id": "53f26c71-fc19-4e4a-b8e0-75fb68f96490",
   "metadata": {},
   "outputs": [],
   "source": []
  }
 ],
 "metadata": {
  "kernelspec": {
   "display_name": "Python 3 (ipykernel)",
   "language": "python",
   "name": "python3"
  },
  "language_info": {
   "codemirror_mode": {
    "name": "ipython",
    "version": 3
   },
   "file_extension": ".py",
   "mimetype": "text/x-python",
   "name": "python",
   "nbconvert_exporter": "python",
   "pygments_lexer": "ipython3",
   "version": "3.8.19"
  }
 },
 "nbformat": 4,
 "nbformat_minor": 5
}
