{
 "cells": [
  {
   "cell_type": "markdown",
   "metadata": {},
   "source": [
    "*Elliott Rose - 300540768*\n",
    "________"
   ]
  },
  {
   "cell_type": "markdown",
   "metadata": {},
   "source": [
    "**EDA (exploratory data analysis):**\n",
    "* *Understand data.*\n",
    "* *Handle missing values.*\n",
    "* *Univariate Analysis.*\n",
    "* *Multivariate Analysis.*\n",
    "* *Outliers Detection.*\n",
    "* *Feature Engineering.*\n",
    "* *Data Visualization.*\n",
    "* *Summarize Findings.*"
   ]
  },
  {
   "cell_type": "code",
   "execution_count": 3,
   "metadata": {},
   "outputs": [],
   "source": [
    "import numpy as np\n",
    "import matplotlib.pyplot as plt\n",
    "import os\n",
    "import cv2\n",
    "from collections import Counter"
   ]
  },
  {
   "cell_type": "code",
   "execution_count": null,
   "metadata": {},
   "outputs": [],
   "source": [
    "# Path to your image folder\n",
    "image_folder = 'path_to_image_folder/'\n",
    "\n",
    "# Function to load images and get their shapes\n",
    "def load_images(image_folder):\n",
    "    image_shapes = []\n",
    "    file_formats = []\n",
    "    class_counts = Counter()\n",
    "    image_files = [f for f in os.listdir(image_folder) if f.endswith(('.jpg', '.png'))]\n",
    "    \n",
    "    for image_file in image_files:\n",
    "        # Load image using OpenCV\n",
    "        image_path = os.path.join(image_folder, image_file)\n",
    "        image = cv2.imread(image_path)\n",
    "        if image is not None:\n",
    "            image_shapes.append(image.shape)\n",
    "            file_formats.append(image_file.split('.')[-1])\n",
    "            \n",
    "            # Assuming class label is part of the filename, e.g., 'cat_001.jpg'\n",
    "            class_label = image_file.split('_')[0]\n",
    "            class_counts[class_label] += 1\n",
    "    \n",
    "    return image_shapes, file_formats, class_counts, image_files\n",
    "\n",
    "# Get image information\n",
    "image_shapes, file_formats, class_counts, image_files = load_images(image_folder)\n",
    "\n",
    "# Inspecting Image Dimensions\n",
    "print(\"Unique Image Shapes:\", set(image_shapes))\n",
    "\n",
    "# Check File Formats\n",
    "print(\"File Formats:\", set(file_formats))\n",
    "\n",
    "# Class Distribution\n",
    "print(\"Class Distribution:\", class_counts)\n",
    "\n",
    "# Visualize Sample Images\n",
    "plt.figure(figsize=(10, 10))\n",
    "for i, image_file in enumerate(image_files[:9]):  # Display first 9 images\n",
    "    img = cv2.imread(os.path.join(image_folder, image_file))\n",
    "    img = cv2.cvtColor(img, cv2.COLOR_BGR2RGB)\n",
    "    plt.subplot(3, 3, i + 1)\n",
    "    plt.imshow(img)\n",
    "    plt.title(image_file)\n",
    "    plt.axis('off')\n",
    "\n",
    "plt.show()\n",
    "\n",
    "# Analyze pixel intensity distributions\n",
    "first_image = cv2.imread(os.path.join(image_folder, image_files[0]), cv2.IMREAD_GRAYSCALE)\n",
    "plt.hist(first_image.ravel(), bins=256, color='black', alpha=0.75)\n",
    "plt.title('Pixel Intensity Distribution')\n",
    "plt.show()\n"
   ]
  },
  {
   "cell_type": "code",
   "execution_count": null,
   "metadata": {},
   "outputs": [],
   "source": []
  }
 ],
 "metadata": {
  "kernelspec": {
   "display_name": "Python 3",
   "language": "python",
   "name": "python3"
  },
  "language_info": {
   "codemirror_mode": {
    "name": "ipython",
    "version": 3
   },
   "file_extension": ".py",
   "mimetype": "text/x-python",
   "name": "python",
   "nbconvert_exporter": "python",
   "pygments_lexer": "ipython3",
   "version": "3.12.5"
  }
 },
 "nbformat": 4,
 "nbformat_minor": 2
}
