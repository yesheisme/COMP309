{
 "cells": [
  {
   "cell_type": "markdown",
   "metadata": {},
   "source": [
    "# COMP309 - a4\n",
    "### Elliott Rose\n",
    "### 300540768"
   ]
  },
  {
   "cell_type": "code",
   "execution_count": 2,
   "metadata": {},
   "outputs": [],
   "source": [
    "# Imports\n",
    "import numpy as np\n",
    "import pandas as pd\n",
    "import seaborn as sns\n",
    "import matplotlib.pyplot as plt\n",
    "import os\n"
   ]
  },
  {
   "cell_type": "code",
   "execution_count": 9,
   "metadata": {},
   "outputs": [
    {
     "data": {
      "text/plain": [
       "<bound method NDFrame.head of        Unnamed: 0  carat        cut color clarity  depth  table     x     y  \\\n",
       "0               1   0.23      Ideal     E     SI2   61.5   55.0  3.95  3.98   \n",
       "1               2   0.21    Premium     E     SI1   59.8   61.0  3.89  3.84   \n",
       "2               3   0.23       Good     E     VS1   56.9   65.0  4.05  4.07   \n",
       "3               4   0.29    Premium     I     VS2   62.4   58.0  4.20  4.23   \n",
       "4               5   0.31       Good     J     SI2   63.3   58.0  4.34  4.35   \n",
       "...           ...    ...        ...   ...     ...    ...    ...   ...   ...   \n",
       "53935       53936   0.72      Ideal     D     SI1   60.8   57.0  5.75  5.76   \n",
       "53936       53937   0.72       Good     D     SI1   63.1   55.0  5.69  5.75   \n",
       "53937       53938   0.70  Very Good     D     SI1   62.8   60.0  5.66  5.68   \n",
       "53938       53939   0.86    Premium     H     SI2   61.0   58.0  6.15  6.12   \n",
       "53939       53940   0.75      Ideal     D     SI2   62.2   55.0  5.83  5.87   \n",
       "\n",
       "          z  price  \n",
       "0      2.43    326  \n",
       "1      2.31    326  \n",
       "2      2.31    327  \n",
       "3      2.63    334  \n",
       "4      2.75    335  \n",
       "...     ...    ...  \n",
       "53935  3.50   2757  \n",
       "53936  3.61   2757  \n",
       "53937  3.56   2757  \n",
       "53938  3.74   2757  \n",
       "53939  3.64   2757  \n",
       "\n",
       "[53940 rows x 11 columns]>"
      ]
     },
     "execution_count": 9,
     "metadata": {},
     "output_type": "execute_result"
    }
   ],
   "source": [
    "df = pd.read_csv('Part 1 - regression/diamonds.csv')\n",
    "df.head\n"
   ]
  },
  {
   "cell_type": "code",
   "execution_count": null,
   "metadata": {},
   "outputs": [],
   "source": []
  }
 ],
 "metadata": {
  "kernelspec": {
   "display_name": "base",
   "language": "python",
   "name": "python3"
  },
  "language_info": {
   "codemirror_mode": {
    "name": "ipython",
    "version": 3
   },
   "file_extension": ".py",
   "mimetype": "text/x-python",
   "name": "python",
   "nbconvert_exporter": "python",
   "pygments_lexer": "ipython3",
   "version": "3.8.8"
  }
 },
 "nbformat": 4,
 "nbformat_minor": 2
}
